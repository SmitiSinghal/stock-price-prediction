{
  "nbformat": 4,
  "nbformat_minor": 0,
  "metadata": {
    "colab": {
      "name": "Stock Price Prediction.ipynb",
      "provenance": [],
      "collapsed_sections": []
    },
    "kernelspec": {
      "name": "python3",
      "display_name": "Python 3"
    }
  },
  "cells": [
    {
      "cell_type": "markdown",
      "metadata": {
        "id": "m2Mla9X_BUWb"
      },
      "source": [
        "#STOCK PRICE PREDICTION USING LINEAR REGRESSION"
      ]
    },
    {
      "cell_type": "markdown",
      "metadata": {
        "id": "UORLL5e3RBJJ"
      },
      "source": [
        "##Reading the dataset"
      ]
    },
    {
      "cell_type": "code",
      "metadata": {
        "colab": {
          "base_uri": "https://localhost:8080/"
        },
        "id": "qTN_nQxLvkbt",
        "outputId": "bd94af7e-9e33-40cb-9fac-61bcd77cef5d"
      },
      "source": [
        "!pip install quandl "
      ],
      "execution_count": 1,
      "outputs": [
        {
          "output_type": "stream",
          "text": [
            "Requirement already satisfied: quandl in /usr/local/lib/python3.6/dist-packages (3.6.0)\n",
            "Requirement already satisfied: more-itertools in /usr/local/lib/python3.6/dist-packages (from quandl) (8.6.0)\n",
            "Requirement already satisfied: requests>=2.7.0 in /usr/local/lib/python3.6/dist-packages (from quandl) (2.23.0)\n",
            "Requirement already satisfied: pandas>=0.14 in /usr/local/lib/python3.6/dist-packages (from quandl) (1.1.5)\n",
            "Requirement already satisfied: numpy>=1.8 in /usr/local/lib/python3.6/dist-packages (from quandl) (1.19.5)\n",
            "Requirement already satisfied: inflection>=0.3.1 in /usr/local/lib/python3.6/dist-packages (from quandl) (0.5.1)\n",
            "Requirement already satisfied: python-dateutil in /usr/local/lib/python3.6/dist-packages (from quandl) (2.8.1)\n",
            "Requirement already satisfied: six in /usr/local/lib/python3.6/dist-packages (from quandl) (1.15.0)\n",
            "Requirement already satisfied: idna<3,>=2.5 in /usr/local/lib/python3.6/dist-packages (from requests>=2.7.0->quandl) (2.10)\n",
            "Requirement already satisfied: chardet<4,>=3.0.2 in /usr/local/lib/python3.6/dist-packages (from requests>=2.7.0->quandl) (3.0.4)\n",
            "Requirement already satisfied: urllib3!=1.25.0,!=1.25.1,<1.26,>=1.21.1 in /usr/local/lib/python3.6/dist-packages (from requests>=2.7.0->quandl) (1.24.3)\n",
            "Requirement already satisfied: certifi>=2017.4.17 in /usr/local/lib/python3.6/dist-packages (from requests>=2.7.0->quandl) (2020.12.5)\n",
            "Requirement already satisfied: pytz>=2017.2 in /usr/local/lib/python3.6/dist-packages (from pandas>=0.14->quandl) (2018.9)\n"
          ],
          "name": "stdout"
        }
      ]
    },
    {
      "cell_type": "code",
      "metadata": {
        "id": "1PFGEhD_U54Z"
      },
      "source": [
        "import math\r\n",
        "import numpy as np\r\n",
        "import pandas as pd\r\n",
        "from sklearn import preprocessing\r\n",
        "from sklearn.model_selection import train_test_split\r\n",
        "from sklearn.linear_model import LinearRegression\r\n",
        "from sklearn.metrics import mean_squared_error\r\n",
        "from sklearn.metrics import mean_absolute_error"
      ],
      "execution_count": 2,
      "outputs": []
    },
    {
      "cell_type": "code",
      "metadata": {
        "id": "XQGTFTjyGyNp",
        "colab": {
          "base_uri": "https://localhost:8080/",
          "height": 225
        },
        "outputId": "e9342622-bbf7-46de-feae-2608c08eb074"
      },
      "source": [
        "import quandl\r\n",
        "df = quandl.get(\"EOD/AAPL\", authtoken=\"7ro4eX9xx4GhkQoo756a\")\r\n",
        "df.head()"
      ],
      "execution_count": 3,
      "outputs": [
        {
          "output_type": "execute_result",
          "data": {
            "text/html": [
              "<div>\n",
              "<style scoped>\n",
              "    .dataframe tbody tr th:only-of-type {\n",
              "        vertical-align: middle;\n",
              "    }\n",
              "\n",
              "    .dataframe tbody tr th {\n",
              "        vertical-align: top;\n",
              "    }\n",
              "\n",
              "    .dataframe thead th {\n",
              "        text-align: right;\n",
              "    }\n",
              "</style>\n",
              "<table border=\"1\" class=\"dataframe\">\n",
              "  <thead>\n",
              "    <tr style=\"text-align: right;\">\n",
              "      <th></th>\n",
              "      <th>Open</th>\n",
              "      <th>High</th>\n",
              "      <th>Low</th>\n",
              "      <th>Close</th>\n",
              "      <th>Volume</th>\n",
              "      <th>Dividend</th>\n",
              "      <th>Split</th>\n",
              "      <th>Adj_Open</th>\n",
              "      <th>Adj_High</th>\n",
              "      <th>Adj_Low</th>\n",
              "      <th>Adj_Close</th>\n",
              "      <th>Adj_Volume</th>\n",
              "    </tr>\n",
              "    <tr>\n",
              "      <th>Date</th>\n",
              "      <th></th>\n",
              "      <th></th>\n",
              "      <th></th>\n",
              "      <th></th>\n",
              "      <th></th>\n",
              "      <th></th>\n",
              "      <th></th>\n",
              "      <th></th>\n",
              "      <th></th>\n",
              "      <th></th>\n",
              "      <th></th>\n",
              "      <th></th>\n",
              "    </tr>\n",
              "  </thead>\n",
              "  <tbody>\n",
              "    <tr>\n",
              "      <th>2013-09-03</th>\n",
              "      <td>493.10</td>\n",
              "      <td>500.60</td>\n",
              "      <td>487.35</td>\n",
              "      <td>488.580</td>\n",
              "      <td>11854600.0</td>\n",
              "      <td>0.0</td>\n",
              "      <td>1.0</td>\n",
              "      <td>15.619650</td>\n",
              "      <td>15.857223</td>\n",
              "      <td>15.437510</td>\n",
              "      <td>15.476472</td>\n",
              "      <td>331928800.0</td>\n",
              "    </tr>\n",
              "    <tr>\n",
              "      <th>2013-09-04</th>\n",
              "      <td>499.56</td>\n",
              "      <td>502.24</td>\n",
              "      <td>496.28</td>\n",
              "      <td>498.691</td>\n",
              "      <td>12322600.0</td>\n",
              "      <td>0.0</td>\n",
              "      <td>1.0</td>\n",
              "      <td>15.824280</td>\n",
              "      <td>15.909173</td>\n",
              "      <td>15.720381</td>\n",
              "      <td>15.796753</td>\n",
              "      <td>345032800.0</td>\n",
              "    </tr>\n",
              "    <tr>\n",
              "      <th>2013-09-05</th>\n",
              "      <td>500.25</td>\n",
              "      <td>500.68</td>\n",
              "      <td>493.64</td>\n",
              "      <td>495.270</td>\n",
              "      <td>8441700.0</td>\n",
              "      <td>0.0</td>\n",
              "      <td>1.0</td>\n",
              "      <td>15.846136</td>\n",
              "      <td>15.859757</td>\n",
              "      <td>15.636755</td>\n",
              "      <td>15.688388</td>\n",
              "      <td>236367600.0</td>\n",
              "    </tr>\n",
              "    <tr>\n",
              "      <th>2013-09-06</th>\n",
              "      <td>498.44</td>\n",
              "      <td>499.38</td>\n",
              "      <td>489.95</td>\n",
              "      <td>498.220</td>\n",
              "      <td>12840200.0</td>\n",
              "      <td>0.0</td>\n",
              "      <td>1.0</td>\n",
              "      <td>15.788802</td>\n",
              "      <td>15.818578</td>\n",
              "      <td>15.519869</td>\n",
              "      <td>15.781833</td>\n",
              "      <td>359525600.0</td>\n",
              "    </tr>\n",
              "    <tr>\n",
              "      <th>2013-09-09</th>\n",
              "      <td>505.00</td>\n",
              "      <td>507.92</td>\n",
              "      <td>503.48</td>\n",
              "      <td>506.170</td>\n",
              "      <td>12167400.0</td>\n",
              "      <td>0.0</td>\n",
              "      <td>1.0</td>\n",
              "      <td>15.996600</td>\n",
              "      <td>16.089095</td>\n",
              "      <td>15.948451</td>\n",
              "      <td>16.033661</td>\n",
              "      <td>340687200.0</td>\n",
              "    </tr>\n",
              "  </tbody>\n",
              "</table>\n",
              "</div>"
            ],
            "text/plain": [
              "              Open    High     Low  ...    Adj_Low  Adj_Close   Adj_Volume\n",
              "Date                                ...                                   \n",
              "2013-09-03  493.10  500.60  487.35  ...  15.437510  15.476472  331928800.0\n",
              "2013-09-04  499.56  502.24  496.28  ...  15.720381  15.796753  345032800.0\n",
              "2013-09-05  500.25  500.68  493.64  ...  15.636755  15.688388  236367600.0\n",
              "2013-09-06  498.44  499.38  489.95  ...  15.519869  15.781833  359525600.0\n",
              "2013-09-09  505.00  507.92  503.48  ...  15.948451  16.033661  340687200.0\n",
              "\n",
              "[5 rows x 12 columns]"
            ]
          },
          "metadata": {
            "tags": []
          },
          "execution_count": 3
        }
      ]
    },
    {
      "cell_type": "markdown",
      "metadata": {
        "id": "q6bpG7QyCRUh"
      },
      "source": [
        "## Data Analysis"
      ]
    },
    {
      "cell_type": "markdown",
      "metadata": {
        "id": "LIeC-LWjKqGp"
      },
      "source": [
        "Calculating the High Low Percentage and Percentage Change -"
      ]
    },
    {
      "cell_type": "code",
      "metadata": {
        "id": "1jStN2vC-vF_"
      },
      "source": [
        "df = df[['Adj_Open',  'Adj_High',  'Adj_Low',  'Adj_Close', 'Adj_Volume']]"
      ],
      "execution_count": 4,
      "outputs": []
    },
    {
      "cell_type": "code",
      "metadata": {
        "id": "8xyBSE3j_FNC"
      },
      "source": [
        "df['HL_PCT'] = (df['Adj_High'] - df['Adj_Low']) / df['Adj_Close'] * 100.0"
      ],
      "execution_count": 5,
      "outputs": []
    },
    {
      "cell_type": "code",
      "metadata": {
        "id": "I0QgeLXd_Mb3"
      },
      "source": [
        "df['PCT_change'] = (df['Adj_Close'] - df['Adj_Open']) / df['Adj_Open'] * 100.0"
      ],
      "execution_count": 6,
      "outputs": []
    },
    {
      "cell_type": "code",
      "metadata": {
        "colab": {
          "base_uri": "https://localhost:8080/",
          "height": 225
        },
        "id": "qfjmr_BM_R6z",
        "outputId": "42bb0c62-fc94-42fd-ed8e-a24b31099af0"
      },
      "source": [
        "df = df[['Adj_Close', 'HL_PCT', 'PCT_change', 'Adj_Volume']]\r\n",
        "df.head()"
      ],
      "execution_count": 7,
      "outputs": [
        {
          "output_type": "execute_result",
          "data": {
            "text/html": [
              "<div>\n",
              "<style scoped>\n",
              "    .dataframe tbody tr th:only-of-type {\n",
              "        vertical-align: middle;\n",
              "    }\n",
              "\n",
              "    .dataframe tbody tr th {\n",
              "        vertical-align: top;\n",
              "    }\n",
              "\n",
              "    .dataframe thead th {\n",
              "        text-align: right;\n",
              "    }\n",
              "</style>\n",
              "<table border=\"1\" class=\"dataframe\">\n",
              "  <thead>\n",
              "    <tr style=\"text-align: right;\">\n",
              "      <th></th>\n",
              "      <th>Adj_Close</th>\n",
              "      <th>HL_PCT</th>\n",
              "      <th>PCT_change</th>\n",
              "      <th>Adj_Volume</th>\n",
              "    </tr>\n",
              "    <tr>\n",
              "      <th>Date</th>\n",
              "      <th></th>\n",
              "      <th></th>\n",
              "      <th></th>\n",
              "      <th></th>\n",
              "    </tr>\n",
              "  </thead>\n",
              "  <tbody>\n",
              "    <tr>\n",
              "      <th>2013-09-03</th>\n",
              "      <td>15.476472</td>\n",
              "      <td>2.711941</td>\n",
              "      <td>-0.916650</td>\n",
              "      <td>331928800.0</td>\n",
              "    </tr>\n",
              "    <tr>\n",
              "      <th>2013-09-04</th>\n",
              "      <td>15.796753</td>\n",
              "      <td>1.195129</td>\n",
              "      <td>-0.173953</td>\n",
              "      <td>345032800.0</td>\n",
              "    </tr>\n",
              "    <tr>\n",
              "      <th>2013-09-05</th>\n",
              "      <td>15.688388</td>\n",
              "      <td>1.421447</td>\n",
              "      <td>-0.995502</td>\n",
              "      <td>236367600.0</td>\n",
              "    </tr>\n",
              "    <tr>\n",
              "      <th>2013-09-06</th>\n",
              "      <td>15.781833</td>\n",
              "      <td>1.892738</td>\n",
              "      <td>-0.044138</td>\n",
              "      <td>359525600.0</td>\n",
              "    </tr>\n",
              "    <tr>\n",
              "      <th>2013-09-09</th>\n",
              "      <td>16.033661</td>\n",
              "      <td>0.877176</td>\n",
              "      <td>0.231683</td>\n",
              "      <td>340687200.0</td>\n",
              "    </tr>\n",
              "  </tbody>\n",
              "</table>\n",
              "</div>"
            ],
            "text/plain": [
              "            Adj_Close    HL_PCT  PCT_change   Adj_Volume\n",
              "Date                                                    \n",
              "2013-09-03  15.476472  2.711941   -0.916650  331928800.0\n",
              "2013-09-04  15.796753  1.195129   -0.173953  345032800.0\n",
              "2013-09-05  15.688388  1.421447   -0.995502  236367600.0\n",
              "2013-09-06  15.781833  1.892738   -0.044138  359525600.0\n",
              "2013-09-09  16.033661  0.877176    0.231683  340687200.0"
            ]
          },
          "metadata": {
            "tags": []
          },
          "execution_count": 7
        }
      ]
    },
    {
      "cell_type": "markdown",
      "metadata": {
        "id": "o1sXDJXrCkKt"
      },
      "source": [
        "## Data Preprocessing"
      ]
    },
    {
      "cell_type": "markdown",
      "metadata": {
        "id": "ufkvnZVMG849"
      },
      "source": [
        "The Nan values are replaced with -99999 as the machine learning classifier cannot accept Nan data points and the replaced value will then be considered as an outlier"
      ]
    },
    {
      "cell_type": "code",
      "metadata": {
        "id": "Jg2W4fu3_tnR"
      },
      "source": [
        "forecast_col = 'Adj_Close'\r\n",
        "df.fillna(value=-99999, inplace=True)"
      ],
      "execution_count": 8,
      "outputs": []
    },
    {
      "cell_type": "markdown",
      "metadata": {
        "id": "h9Xe7Y9rJjZO"
      },
      "source": [
        "Here, the features are the current values, and the label will be the price, so we have considered the future to be 1% of the entire length of the dataset out."
      ]
    },
    {
      "cell_type": "code",
      "metadata": {
        "id": "DchWc7X4JRbl"
      },
      "source": [
        "forecast_out = int(math.ceil(0.01 * len(df)))"
      ],
      "execution_count": 9,
      "outputs": []
    },
    {
      "cell_type": "code",
      "metadata": {
        "id": "QCwkknlS_528"
      },
      "source": [
        "df['label'] = df[forecast_col].shift(-forecast_out) #the price in future"
      ],
      "execution_count": 10,
      "outputs": []
    },
    {
      "cell_type": "markdown",
      "metadata": {
        "id": "w5Xp5bPOGx3E"
      },
      "source": [
        "Dropping the rows with NaN values"
      ]
    },
    {
      "cell_type": "code",
      "metadata": {
        "id": "T6Qu0GcEIYvD"
      },
      "source": [
        "df.dropna(inplace=True)"
      ],
      "execution_count": 11,
      "outputs": []
    },
    {
      "cell_type": "code",
      "metadata": {
        "id": "HQjNrqsuIhIz"
      },
      "source": [
        "X = np.array(df.drop(['label'], 1))\r\n",
        "y = np.array(df['label'])"
      ],
      "execution_count": 12,
      "outputs": []
    },
    {
      "cell_type": "markdown",
      "metadata": {
        "id": "FtlKOCiMHdAE"
      },
      "source": [
        "Scaling the features"
      ]
    },
    {
      "cell_type": "code",
      "metadata": {
        "id": "cBxL3QaMmvQd"
      },
      "source": [
        "X = preprocessing.scale(X)"
      ],
      "execution_count": 13,
      "outputs": []
    },
    {
      "cell_type": "markdown",
      "metadata": {
        "id": "5iRnq7-UHgcm"
      },
      "source": [
        "Target variable is y i.e. the price in future."
      ]
    },
    {
      "cell_type": "code",
      "metadata": {
        "id": "Zxu5KyeTxtGm"
      },
      "source": [
        "y = np.array(df['label'])"
      ],
      "execution_count": 14,
      "outputs": []
    },
    {
      "cell_type": "markdown",
      "metadata": {
        "id": "Ic8j-waCRWkS"
      },
      "source": [
        "##Training with Linear Regression"
      ]
    },
    {
      "cell_type": "code",
      "metadata": {
        "id": "ff4dGWrImd0m"
      },
      "source": [
        "train_X, test_X, train_y, test_y = train_test_split(X, y, test_size=0.2, random_state=0)"
      ],
      "execution_count": 15,
      "outputs": []
    },
    {
      "cell_type": "code",
      "metadata": {
        "id": "0Aw157FCAuB2"
      },
      "source": [
        "model=LinearRegression()"
      ],
      "execution_count": 16,
      "outputs": []
    },
    {
      "cell_type": "code",
      "metadata": {
        "colab": {
          "base_uri": "https://localhost:8080/"
        },
        "id": "rukPbn6EAuB8",
        "outputId": "f811b6e5-671a-4da2-f7a2-9174b2ccdf46"
      },
      "source": [
        "model.fit(train_X,train_y)"
      ],
      "execution_count": 17,
      "outputs": [
        {
          "output_type": "execute_result",
          "data": {
            "text/plain": [
              "LinearRegression(copy_X=True, fit_intercept=True, n_jobs=None, normalize=False)"
            ]
          },
          "metadata": {
            "tags": []
          },
          "execution_count": 17
        }
      ]
    },
    {
      "cell_type": "code",
      "metadata": {
        "id": "PHu2tUxRAuB8"
      },
      "source": [
        "val_predictions = model.predict(test_X)\r\n",
        "#val_predictions"
      ],
      "execution_count": 18,
      "outputs": []
    },
    {
      "cell_type": "markdown",
      "metadata": {
        "id": "VXkq_SmTCtlC"
      },
      "source": [
        "##Model Evaluation"
      ]
    },
    {
      "cell_type": "code",
      "metadata": {
        "colab": {
          "base_uri": "https://localhost:8080/"
        },
        "id": "U_9EOBnCAuB9",
        "outputId": "be661b11-4945-4579-c42f-f67e4922f0d3"
      },
      "source": [
        "print(\"Mean Squared Error: \")\r\n",
        "print(mean_squared_error(test_y, val_predictions))"
      ],
      "execution_count": 19,
      "outputs": [
        {
          "output_type": "stream",
          "text": [
            "Mean Squared Error: \n",
            "1.5674780454025352\n"
          ],
          "name": "stdout"
        }
      ]
    },
    {
      "cell_type": "markdown",
      "metadata": {
        "id": "CzZ4XrHjBGn7"
      },
      "source": [
        "Thus, the MSE of the model is 1.57 (approx.)."
      ]
    },
    {
      "cell_type": "code",
      "metadata": {
        "id": "Oo0A-G9GBJxy",
        "colab": {
          "base_uri": "https://localhost:8080/"
        },
        "outputId": "a3614fb2-59d4-415e-ad57-384b83c7aa6e"
      },
      "source": [
        "print(\"Mean Absolute Error: \")\r\n",
        "print(mean_absolute_error(test_y, val_predictions))"
      ],
      "execution_count": 20,
      "outputs": [
        {
          "output_type": "stream",
          "text": [
            "Mean Absolute Error: \n",
            "0.9494078395192512\n"
          ],
          "name": "stdout"
        }
      ]
    },
    {
      "cell_type": "markdown",
      "metadata": {
        "id": "kA3j0tc_C04R"
      },
      "source": [
        "Thus, the MAE of the model is approximately 0.95 ."
      ]
    },
    {
      "cell_type": "markdown",
      "metadata": {
        "id": "M2R9wYvuC7sn"
      },
      "source": [
        "The model is good as the error is quite low."
      ]
    }
  ]
}